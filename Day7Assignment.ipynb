{
 "cells": [
  {
   "cell_type": "code",
   "execution_count": 2,
   "metadata": {},
   "outputs": [],
   "source": [
    "def getInput(some_func):\n",
    "    def newFunc():\n",
    "        num = int(input(\"Enter a Number \"))\n",
    "        some_func(num)\n",
    "    return newFunc()"
   ]
  },
  {
   "cell_type": "code",
   "execution_count": 8,
   "metadata": {},
   "outputs": [
    {
     "name": "stdout",
     "output_type": "stream",
     "text": [
      "Enter a Number 10\n",
      "Fibonacci series upto 10 terms :\n",
      "0\n",
      "1\n",
      "1\n",
      "2\n",
      "3\n",
      "5\n",
      "8\n",
      "13\n",
      "21\n",
      "34\n"
     ]
    }
   ],
   "source": [
    "@getInput\n",
    "def fib(n):\n",
    "    a = 0 \n",
    "    b = 1\n",
    "    cntr = 0\n",
    "    if n == 1:\n",
    "       print(\"Fibonacci series upto\",n,\"terms :\")\n",
    "       print(a)\n",
    "    else:\n",
    "       print(\"Fibonacci series upto\",n,\"terms :\")\n",
    "       while cntr < n:\n",
    "           print(a)\n",
    "           c = a + b\n",
    "           a = b\n",
    "           b = c\n",
    "           cntr += 1"
   ]
  }
 ],
 "metadata": {
  "kernelspec": {
   "display_name": "Python 3",
   "language": "python",
   "name": "python3"
  },
  "language_info": {
   "codemirror_mode": {
    "name": "ipython",
    "version": 3
   },
   "file_extension": ".py",
   "mimetype": "text/x-python",
   "name": "python",
   "nbconvert_exporter": "python",
   "pygments_lexer": "ipython3",
   "version": "3.7.6"
  }
 },
 "nbformat": 4,
 "nbformat_minor": 4
}
