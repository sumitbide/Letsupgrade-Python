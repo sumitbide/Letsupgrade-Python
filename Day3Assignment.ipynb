{
 "cells": [
  {
   "cell_type": "code",
   "execution_count": 1,
   "metadata": {},
   "outputs": [
    {
     "name": "stdout",
     "output_type": "stream",
     "text": [
      "Enter marks97\n",
      "you entered 97\n",
      "|--------|\n",
      "|   A    |\n",
      "|--------|\n"
     ]
    }
   ],
   "source": [
    "marks=int(input(\"Enter marks\"))\n",
    "print(\"you entered\",marks)\n",
    "if marks > 90 & marks <= 100:\n",
    "    grade=\"A\"\n",
    "elif marks > 80 & marks <= 90:\n",
    "    grade=\"B\"\n",
    "elif marks > 70 & marks <= 80:\n",
    "    grade=\"C\"\n",
    "elif marks > 60 & marks <= 70:\n",
    "    grade=\"D\"\n",
    "elif marks > 50 & marks <= 60:\n",
    "    grade=\"E\"\n",
    "else:\n",
    "    grade=\"Fail\"\n",
    "print(\"|--------|\")\n",
    "print(\"|   {}    |\".format(grade))\n",
    "print(\"|--------|\")\n"
   ]
  },
  {
   "cell_type": "code",
   "execution_count": 2,
   "metadata": {},
   "outputs": [
    {
     "name": "stdout",
     "output_type": "stream",
     "text": [
      "Enter score120\n",
      "139\n",
      "You don't watch that much! :P \n"
     ]
    }
   ],
   "source": [
    "import random\n",
    "score=int(input(\"Enter score\"))\n",
    "if score < 0 or score > 250:\n",
    "    print(\"Reduce your expectation for 20-20 Cricket\")\n",
    "rno=random.randrange(1,250)\n",
    "print(rno)\n",
    "u=rno+10\n",
    "l=rno-10\n",
    "if score >= l and score <= u:\n",
    "    print(\"Close By, you are True Indian Fan!\")\n",
    "else:\n",
    "    print(\"You don't watch that much! :P \")"
   ]
  },
  {
   "cell_type": "code",
   "execution_count": 4,
   "metadata": {},
   "outputs": [
    {
     "name": "stdout",
     "output_type": "stream",
     "text": [
      "I love FCS\n"
     ]
    }
   ],
   "source": [
    "file = open(\"FCS.txt\",'w')\n",
    "file.write(\"I love FCS\")\n",
    "file.close()\n",
    "file = open(\"FCS.txt\",\"r\")\n",
    "text = file.read()\n",
    "print(text)\n",
    "file.close()"
   ]
  },
  {
   "cell_type": "code",
   "execution_count": 5,
   "metadata": {},
   "outputs": [
    {
     "name": "stdout",
     "output_type": "stream",
     "text": [
      "Enter No of Photos3\n",
      "Enter Length100\n",
      "Enter Width200\n",
      "Enter Height100\n",
      "UPLOAD ANOTHER\n",
      "Enter Length50\n",
      "Enter Width40\n",
      "Enter Height40\n",
      "ACCEPTED\n",
      "Enter Length50\n",
      "Enter Width40\n",
      "Enter Height50\n",
      "CROP IT\n"
     ]
    }
   ],
   "source": [
    "N=int(input(\"Enter No of Photos\"))\n",
    "if N >= 1 and N <= 1000:  \n",
    "    for i in range(1,N+1):\n",
    "        L=int(input(\"Enter Length\"))\n",
    "        W=int(input(\"Enter Width\"))\n",
    "        H=int(input(\"Enter Height\"))\n",
    "        if L >= 1 and L <= 10000:\n",
    "            if H > L or W > L:\n",
    "                print(\"UPLOAD ANOTHER\")\n",
    "            else:    \n",
    "                if W == H:\n",
    "                    print(\"ACCEPTED\")\n",
    "                else:\n",
    "                    print(\"CROP IT\")\n",
    "        else:\n",
    "            print(\"Length must be between 1 to 10000\")\n",
    "else:\n",
    "    print(\"Number must be between 1 to 1000\")"
   ]
  },
  {
   "cell_type": "code",
   "execution_count": 3,
   "metadata": {},
   "outputs": [
    {
     "name": "stdout",
     "output_type": "stream",
     "text": [
      "Initialy ankit is at (0,0) position\n",
      "Enter Command from options- L R U DR\n",
      "Ankit is at (1,0) position\n",
      "Enter Command from options- L R U DR\n",
      "Ankit is at (2,0) position\n",
      "Enter Command from options- L R U DU\n",
      "Ankit is at (2,1) position\n",
      "Enter Command from options- L R U DU\n",
      "Ankit is at (2,2) position\n",
      "Enter Command from options- L R U DU\n",
      "Ankit is at (2,3) position\n",
      "Enter Command from options- L R U DD\n",
      "Ankit is at (2,2) position\n",
      "Enter Command from options- L R U DL\n",
      "Ankit is at (1,2) position\n",
      "Enter Command from options- L R U DL\n",
      "Ankit is at (0,2) position\n",
      "Enter Command from options- L R U DD\n",
      "Ankit is at (0,1) position\n",
      "Enter Command from options- L R U DD\n",
      "Ankit is at (0,0) position\n",
      "Enter Command from options- L R U Dstop\n",
      "Ankit is at (0,0) position\n"
     ]
    }
   ],
   "source": [
    "move = True\n",
    "lr=0\n",
    "du=0\n",
    "print(\"Initialy ankit is at ({},{}) position\".format(lr,du))    \n",
    "while move == True:\n",
    "    cmd=input(\"Enter Command from options- L R U D\")\n",
    "    if cmd == \"stop\":\n",
    "        move = False\n",
    "    \n",
    "    if cmd == \"L\":\n",
    "        lr = lr - 1\n",
    "    if cmd == \"R\":\n",
    "        lr = lr + 1\n",
    "    if cmd == \"D\":\n",
    "        du = du - 1\n",
    "    if cmd == \"U\":\n",
    "        du = du + 1\n",
    "\n",
    "    print(\"Ankit is at ({},{}) position\".format(lr,du))\n",
    "    "
   ]
  },
  {
   "cell_type": "code",
   "execution_count": null,
   "metadata": {},
   "outputs": [],
   "source": []
  }
 ],
 "metadata": {
  "kernelspec": {
   "display_name": "Python 3",
   "language": "python",
   "name": "python3"
  },
  "language_info": {
   "codemirror_mode": {
    "name": "ipython",
    "version": 3
   },
   "file_extension": ".py",
   "mimetype": "text/x-python",
   "name": "python",
   "nbconvert_exporter": "python",
   "pygments_lexer": "ipython3",
   "version": "3.7.6"
  }
 },
 "nbformat": 4,
 "nbformat_minor": 4
}
