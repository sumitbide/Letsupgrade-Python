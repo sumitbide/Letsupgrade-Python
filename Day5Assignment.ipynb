{
 "cells": [
  {
   "cell_type": "code",
   "execution_count": 1,
   "metadata": {},
   "outputs": [],
   "source": [
    "class BankAccount():\n",
    "    def __init__(self, owner, balance):\n",
    "        self.owner = owner\n",
    "        self.balance = balance\n",
    "        \n",
    "    def deposit(self): \n",
    "        amount=int(input(\"\\nEnter amount to Deposit: \"))\n",
    "        self.balance += amount \n",
    "        print(\"\\n Amount Deposited:\",amount) \n",
    "        print(\"\\n Account Balance is :\",self.balance) \n",
    "  \n",
    "    def withdraw(self): \n",
    "        amount=int(input(\"\\n\\nEnter amount to Withdraw: \"))\n",
    "        if self.balance>=amount: \n",
    "            self.balance-=amount \n",
    "            print(\"\\n You Withdrew:\", amount) \n",
    "            print(\"\\n Account Balance is :\",self.balance) \n",
    "        else: \n",
    "            print(\"\\n Insufficient balance  \") \n",
    "            print(\"\\n Account Balance is :\",self.balance) "
   ]
  },
  {
   "cell_type": "code",
   "execution_count": 2,
   "metadata": {},
   "outputs": [
    {
     "name": "stdout",
     "output_type": "stream",
     "text": [
      "\n",
      "Enter amount to Deposit: 5000\n",
      "\n",
      " Amount Deposited: 5000\n",
      "\n",
      " Account Balance is : 25000\n",
      "\n",
      "\n",
      "Enter amount to Withdraw: 30000\n",
      "\n",
      " Insufficient balance  \n",
      "\n",
      " Account Balance is : 25000\n"
     ]
    }
   ],
   "source": [
    "B1 = BankAccount(\"Sumit\",20000);\n",
    "B1.deposit()\n",
    "B1.withdraw()"
   ]
  },
  {
   "cell_type": "code",
   "execution_count": 9,
   "metadata": {},
   "outputs": [],
   "source": [
    "import math\n",
    "class Cone():\n",
    "    def __init__(self, r, h):\n",
    "        self.r = r\n",
    "        self.h = h\n",
    "        \n",
    "    def volume(self): \n",
    "        return math.pi*self.r*self.r*(self.h/3)\n",
    "        \n",
    "    def surface_area(self): \n",
    "         return math.pi*self.r*(self.r+math.sqrt(self.h*self.h+self.r*self.r))"
   ]
  },
  {
   "cell_type": "code",
   "execution_count": 14,
   "metadata": {},
   "outputs": [
    {
     "name": "stdout",
     "output_type": "stream",
     "text": [
      "\n",
      "Volume : 2094.3951023931954\n",
      "\n",
      "Surface Area : 1016.640738463052\n"
     ]
    }
   ],
   "source": [
    "c1=Cone(10,20)\n",
    "print(\"\\nVolume :\",c1.volume())\n",
    "print(\"\\nSurface Area :\",c1.surface_area())"
   ]
  }
 ],
 "metadata": {
  "kernelspec": {
   "display_name": "Python 3",
   "language": "python",
   "name": "python3"
  },
  "language_info": {
   "codemirror_mode": {
    "name": "ipython",
    "version": 3
   },
   "file_extension": ".py",
   "mimetype": "text/x-python",
   "name": "python",
   "nbconvert_exporter": "python",
   "pygments_lexer": "ipython3",
   "version": "3.7.6"
  }
 },
 "nbformat": 4,
 "nbformat_minor": 4
}
