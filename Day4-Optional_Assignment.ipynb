{
 "cells": [
  {
   "cell_type": "code",
   "execution_count": 27,
   "metadata": {},
   "outputs": [
    {
     "name": "stdout",
     "output_type": "stream",
     "text": [
      "Enter Messege :All-convoYs-9-be:Alert1.\n",
      "Enter Key :4\n",
      "Epp-gsrzsCw-3-fi:Epivx5.\n"
     ]
    }
   ],
   "source": [
    "import re\n",
    "str=input(\"Enter Messege :\")\n",
    "k=int(input(\"Enter Key :\"))\n",
    "cip = \"\"\n",
    "for i in range(len(str)): \n",
    "    char = str[i] \n",
    "    if re.match(\"^[a-zA-Z0-9]*$\",char):\n",
    "        if (char.isdigit()):\n",
    "            if char == \"9\":\n",
    "                cip = cip + \"3\"\n",
    "            else:\n",
    "                cip = cip + chr(ord(char) + k)\n",
    "        else:\n",
    "            if (char.isupper()): \n",
    "                cip = cip + chr((ord(char) + k - 65) % 26 + 65)   \n",
    "            else:\n",
    "                cip = cip + chr((ord(char) + k - 97) % 26 + 97) \n",
    "           \n",
    "    else: \n",
    "        cip = cip + char\n",
    "print(cip)"
   ]
  }
 ],
 "metadata": {
  "kernelspec": {
   "display_name": "Python 3",
   "language": "python",
   "name": "python3"
  },
  "language_info": {
   "codemirror_mode": {
    "name": "ipython",
    "version": 3
   },
   "file_extension": ".py",
   "mimetype": "text/x-python",
   "name": "python",
   "nbconvert_exporter": "python",
   "pygments_lexer": "ipython3",
   "version": "3.7.6"
  }
 },
 "nbformat": 4,
 "nbformat_minor": 4
}
